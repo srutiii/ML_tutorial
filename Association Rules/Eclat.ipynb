{
 "cells": [
  {
   "cell_type": "code",
   "execution_count": 1,
   "metadata": {},
   "outputs": [],
   "source": [
    "import numpy as np\n",
    "import pandas as pd\n",
    "import matplotlib.pyplot as plt\n"
   ]
  },
  {
   "cell_type": "code",
   "execution_count": 24,
   "metadata": {},
   "outputs": [],
   "source": [
    "dataset = pd.read_csv('../datasets/Market_Basket_Optimisation.csv', header=None)\n",
    "\n",
    "# converting the dataframe into list\n",
    "transactions = []\n",
    "for i in range(1, 7501):\n",
    "    transactions.append([str(dataset.values[i,j]) for j in range(0,20)]) #list of products"
   ]
  },
  {
   "cell_type": "code",
   "execution_count": 25,
   "metadata": {},
   "outputs": [],
   "source": [
    "from apyori import apriori\n",
    "rules = apriori(transactions=transactions, min_support=0.003, min_confidence=0.2, min_lift=3, min_length=2, max_length=2 )"
   ]
  },
  {
   "cell_type": "code",
   "execution_count": 26,
   "metadata": {},
   "outputs": [],
   "source": [
    "results=list(rules)"
   ]
  },
  {
   "cell_type": "code",
   "execution_count": 27,
   "metadata": {},
   "outputs": [
    {
     "data": {
      "text/plain": [
       "[RelationRecord(items=frozenset({'burgers              ', 'almonds              '}), support=0.0052, ordered_statistics=[OrderedStatistic(items_base=frozenset({'almonds              '}), items_add=frozenset({'burgers              '}), confidence=0.2805755395683453, lift=3.3243547342221005)]),\n",
       " RelationRecord(items=frozenset({'light cream          ', 'chicken              '}), support=0.0037333333333333333, ordered_statistics=[OrderedStatistic(items_base=frozenset({'light cream          '}), items_add=frozenset({'chicken              '}), confidence=0.2692307692307692, lift=5.022962112514351)]),\n",
       " RelationRecord(items=frozenset({'pasta                ', 'escalope             '}), support=0.0032, ordered_statistics=[OrderedStatistic(items_base=frozenset({'pasta                '}), items_add=frozenset({'escalope             '}), confidence=0.2962962962962963, lift=7.77000777000777)]),\n",
       " RelationRecord(items=frozenset({'french fries         ', 'light mayo           '}), support=0.0030666666666666668, ordered_statistics=[OrderedStatistic(items_base=frozenset({'light mayo           '}), items_add=frozenset({'french fries         '}), confidence=0.338235294117647, lift=3.155179982440737)]),\n",
       " RelationRecord(items=frozenset({'fresh bread          ', 'green tea'}), support=0.0048, ordered_statistics=[OrderedStatistic(items_base=frozenset({'fresh bread          '}), items_add=frozenset({'green tea'}), confidence=0.3243243243243243, lift=3.1265198360314037)]),\n",
       " RelationRecord(items=frozenset({'fresh bread          ', 'low fat yogurt'}), support=0.0036, ordered_statistics=[OrderedStatistic(items_base=frozenset({'fresh bread          '}), items_add=frozenset({'low fat yogurt'}), confidence=0.24324324324324323, lift=3.556187766714082)]),\n",
       " RelationRecord(items=frozenset({'fresh tuna           ', 'pancakes             '}), support=0.004533333333333334, ordered_statistics=[OrderedStatistic(items_base=frozenset({'fresh tuna           '}), items_add=frozenset({'pancakes             '}), confidence=0.20987654320987656, lift=3.074363425925926)]),\n",
       " RelationRecord(items=frozenset({'honey                ', 'fromage blanc        '}), support=0.0032, ordered_statistics=[OrderedStatistic(items_base=frozenset({'fromage blanc        '}), items_add=frozenset({'honey                '}), confidence=0.25, lift=7.32421875)]),\n",
       " RelationRecord(items=frozenset({'parmesan cheese      ', 'frozen vegetables    '}), support=0.0052, ordered_statistics=[OrderedStatistic(items_base=frozenset({'parmesan cheese      '}), items_add=frozenset({'frozen vegetables    '}), confidence=0.276595744680851, lift=3.0108390204737048)]),\n",
       " RelationRecord(items=frozenset({'green tea', 'light mayo           '}), support=0.0033333333333333335, ordered_statistics=[OrderedStatistic(items_base=frozenset({'light mayo           '}), items_add=frozenset({'green tea'}), confidence=0.3676470588235294, lift=3.544155451383638)]),\n",
       " RelationRecord(items=frozenset({'green tea', 'low fat yogurt       '}), support=0.004533333333333334, ordered_statistics=[OrderedStatistic(items_base=frozenset({'low fat yogurt       '}), items_add=frozenset({'green tea'}), confidence=0.5762711864406781, lift=5.555313493965406)]),\n",
       " RelationRecord(items=frozenset({'yogurt cake          ', 'green tea'}), support=0.0034666666666666665, ordered_statistics=[OrderedStatistic(items_base=frozenset({'yogurt cake          '}), items_add=frozenset({'green tea'}), confidence=0.34210526315789475, lift=3.297929914761196)]),\n",
       " RelationRecord(items=frozenset({'ground beef          ', 'herb & pepper        '}), support=0.0156, ordered_statistics=[OrderedStatistic(items_base=frozenset({'herb & pepper        '}), items_add=frozenset({'ground beef          '}), confidence=0.3371757925072046, lift=3.5869765160340914)]),\n",
       " RelationRecord(items=frozenset({'ground beef          ', 'tomato sauce         '}), support=0.0052, ordered_statistics=[OrderedStatistic(items_base=frozenset({'tomato sauce         '}), items_add=frozenset({'ground beef          '}), confidence=0.3823529411764706, lift=4.067584480600751)]),\n",
       " RelationRecord(items=frozenset({'light cream          ', 'olive oil            '}), support=0.0032, ordered_statistics=[OrderedStatistic(items_base=frozenset({'light cream          '}), items_add=frozenset({'olive oil            '}), confidence=0.23076923076923078, lift=4.0723981900452495)]),\n",
       " RelationRecord(items=frozenset({'whole wheat pasta    ', 'olive oil            '}), support=0.006533333333333334, ordered_statistics=[OrderedStatistic(items_base=frozenset({'whole wheat pasta    '}), items_add=frozenset({'olive oil            '}), confidence=0.23113207547169815, lift=4.078801331853497)]),\n",
       " RelationRecord(items=frozenset({'pasta                ', 'shrimp               '}), support=0.0048, ordered_statistics=[OrderedStatistic(items_base=frozenset({'pasta                '}), items_add=frozenset({'shrimp               '}), confidence=0.44444444444444436, lift=6.447453255963893)])]"
      ]
     },
     "execution_count": 27,
     "metadata": {},
     "output_type": "execute_result"
    }
   ],
   "source": [
    "results"
   ]
  },
  {
   "cell_type": "code",
   "execution_count": 35,
   "metadata": {},
   "outputs": [],
   "source": [
    "def inspect(results):\n",
    "    lhs         = [tuple(result[2][0][0])[0] for result in results]\n",
    "    rhs         = [tuple(result[2][0][1])[0] for result in results]\n",
    "    supports    = [result[1] for result in results]\n",
    "   \n",
    "    return list(zip(lhs, rhs, supports))\n",
    "resultsinDataFrame = pd.DataFrame(inspect(results), columns = ['Product 1', 'Product 2', 'Support'])"
   ]
  },
  {
   "cell_type": "code",
   "execution_count": 36,
   "metadata": {},
   "outputs": [
    {
     "data": {
      "text/html": [
       "<div>\n",
       "<style scoped>\n",
       "    .dataframe tbody tr th:only-of-type {\n",
       "        vertical-align: middle;\n",
       "    }\n",
       "\n",
       "    .dataframe tbody tr th {\n",
       "        vertical-align: top;\n",
       "    }\n",
       "\n",
       "    .dataframe thead th {\n",
       "        text-align: right;\n",
       "    }\n",
       "</style>\n",
       "<table border=\"1\" class=\"dataframe\">\n",
       "  <thead>\n",
       "    <tr style=\"text-align: right;\">\n",
       "      <th></th>\n",
       "      <th>Product 1</th>\n",
       "      <th>Product 2</th>\n",
       "      <th>Support</th>\n",
       "    </tr>\n",
       "  </thead>\n",
       "  <tbody>\n",
       "    <tr>\n",
       "      <th>12</th>\n",
       "      <td>herb &amp; pepper</td>\n",
       "      <td>ground beef</td>\n",
       "      <td>0.015600</td>\n",
       "    </tr>\n",
       "    <tr>\n",
       "      <th>15</th>\n",
       "      <td>whole wheat pasta</td>\n",
       "      <td>olive oil</td>\n",
       "      <td>0.006533</td>\n",
       "    </tr>\n",
       "    <tr>\n",
       "      <th>0</th>\n",
       "      <td>almonds</td>\n",
       "      <td>burgers</td>\n",
       "      <td>0.005200</td>\n",
       "    </tr>\n",
       "    <tr>\n",
       "      <th>8</th>\n",
       "      <td>parmesan cheese</td>\n",
       "      <td>frozen vegetables</td>\n",
       "      <td>0.005200</td>\n",
       "    </tr>\n",
       "    <tr>\n",
       "      <th>13</th>\n",
       "      <td>tomato sauce</td>\n",
       "      <td>ground beef</td>\n",
       "      <td>0.005200</td>\n",
       "    </tr>\n",
       "    <tr>\n",
       "      <th>4</th>\n",
       "      <td>fresh bread</td>\n",
       "      <td>green tea</td>\n",
       "      <td>0.004800</td>\n",
       "    </tr>\n",
       "    <tr>\n",
       "      <th>16</th>\n",
       "      <td>pasta</td>\n",
       "      <td>shrimp</td>\n",
       "      <td>0.004800</td>\n",
       "    </tr>\n",
       "    <tr>\n",
       "      <th>6</th>\n",
       "      <td>fresh tuna</td>\n",
       "      <td>pancakes</td>\n",
       "      <td>0.004533</td>\n",
       "    </tr>\n",
       "    <tr>\n",
       "      <th>10</th>\n",
       "      <td>low fat yogurt</td>\n",
       "      <td>green tea</td>\n",
       "      <td>0.004533</td>\n",
       "    </tr>\n",
       "    <tr>\n",
       "      <th>1</th>\n",
       "      <td>light cream</td>\n",
       "      <td>chicken</td>\n",
       "      <td>0.003733</td>\n",
       "    </tr>\n",
       "  </tbody>\n",
       "</table>\n",
       "</div>"
      ],
      "text/plain": [
       "                Product 1              Product 2   Support\n",
       "12  herb & pepper          ground beef            0.015600\n",
       "15  whole wheat pasta      olive oil              0.006533\n",
       "0   almonds                burgers                0.005200\n",
       "8   parmesan cheese        frozen vegetables      0.005200\n",
       "13  tomato sauce           ground beef            0.005200\n",
       "4   fresh bread                        green tea  0.004800\n",
       "16  pasta                  shrimp                 0.004800\n",
       "6   fresh tuna             pancakes               0.004533\n",
       "10  low fat yogurt                     green tea  0.004533\n",
       "1   light cream            chicken                0.003733"
      ]
     },
     "execution_count": 36,
     "metadata": {},
     "output_type": "execute_result"
    }
   ],
   "source": [
    "resultsinDataFrame.nlargest(n=10, columns='Support')"
   ]
  },
  {
   "cell_type": "code",
   "execution_count": null,
   "metadata": {},
   "outputs": [],
   "source": []
  }
 ],
 "metadata": {
  "kernelspec": {
   "display_name": "base",
   "language": "python",
   "name": "python3"
  },
  "language_info": {
   "codemirror_mode": {
    "name": "ipython",
    "version": 3
   },
   "file_extension": ".py",
   "mimetype": "text/x-python",
   "name": "python",
   "nbconvert_exporter": "python",
   "pygments_lexer": "ipython3",
   "version": "3.11.4"
  }
 },
 "nbformat": 4,
 "nbformat_minor": 2
}
